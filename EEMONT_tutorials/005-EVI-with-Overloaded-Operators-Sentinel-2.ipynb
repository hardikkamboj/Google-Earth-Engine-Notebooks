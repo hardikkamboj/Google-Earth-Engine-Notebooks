{
  "cells": [
    {
      "cell_type": "markdown",
      "metadata": {
        "id": "UTNRG-RmWLEf"
      },
      "source": [
        "[![colab](https://colab.research.google.com/assets/colab-badge.svg)](https://colab.research.google.com/github/davemlz/eemont/blob/master/docs/tutorials/005-EVI-with-Overloaded-Operators-Sentinel-2.ipynb)"
      ]
    },
    {
      "cell_type": "markdown",
      "metadata": {
        "id": "jZEthLln92Ep"
      },
      "source": [
        "# Using Overloaded Operators to Compute the EVI (Sentinel-2)"
      ]
    },
    {
      "cell_type": "markdown",
      "metadata": {
        "id": "dNa470OZ8Oec"
      },
      "source": [
        "_Tutorial created by **David Montero Loaiza**_: [GitHub](https://github.com/davemlz) | [Twitter](https://twitter.com/dmlmont)\n",
        "\n",
        "- GitHub Repo: [https://github.com/davemlz/eemont](https://github.com/davemlz/eemont)\n",
        "- PyPI link: [https://pypi.org/project/eemont/](https://pypi.org/project/eemont/)\n",
        "- Conda-forge: [https://anaconda.org/conda-forge/eemont](https://anaconda.org/conda-forge/eemont)\n",
        "- Documentation: [https://eemont.readthedocs.io/](https://eemont.readthedocs.io/)\n",
        "- More tutorials: [https://github.com/davemlz/eemont/tree/master/docs/tutorials](https://github.com/davemlz/eemont/tree/master/docs/tutorials)"
      ]
    },
    {
      "cell_type": "markdown",
      "metadata": {
        "id": "CD7h0hbi92Er"
      },
      "source": [
        "## Let's start!"
      ]
    },
    {
      "cell_type": "markdown",
      "metadata": {
        "id": "E0rc6Cya92Es"
      },
      "source": [
        "If required, please uncomment:"
      ]
    },
    {
      "cell_type": "code",
      "execution_count": null,
      "metadata": {
        "id": "NYzyvKtk92Es"
      },
      "outputs": [],
      "source": [
        "#!pip install eemont\n",
        "#!pip install geemap"
      ]
    },
    {
      "cell_type": "markdown",
      "metadata": {
        "id": "x3Rm3qt_92Et"
      },
      "source": [
        "Import the required packges."
      ]
    },
    {
      "cell_type": "code",
      "execution_count": null,
      "metadata": {
        "id": "H0C9S_Hh92Et"
      },
      "outputs": [],
      "source": [
        "import ee, eemont, datetime, geemap"
      ]
    },
    {
      "cell_type": "markdown",
      "metadata": {
        "id": "k1sdX2p592Eu"
      },
      "source": [
        "Authenticate and Initialize Earth Engine and geemap."
      ]
    },
    {
      "cell_type": "code",
      "execution_count": null,
      "metadata": {
        "id": "7QDXqVwy8Oef"
      },
      "outputs": [],
      "source": [
        "Map = geemap.Map()"
      ]
    },
    {
      "cell_type": "markdown",
      "metadata": {
        "id": "FYguKZh892Ey"
      },
      "source": [
        "Point of interest."
      ]
    },
    {
      "cell_type": "code",
      "execution_count": null,
      "metadata": {
        "id": "dVw8YbV-WLEl"
      },
      "outputs": [],
      "source": [
        "point = ee.Geometry.Point([-76.0269,2.92846])"
      ]
    },
    {
      "cell_type": "markdown",
      "metadata": {
        "id": "LJ4Y096pWLEl"
      },
      "source": [
        "Get, filter, mask clouds and scale the image collection."
      ]
    },
    {
      "cell_type": "code",
      "execution_count": null,
      "metadata": {
        "id": "F-hcY450WLEl"
      },
      "outputs": [],
      "source": [
        "S2 = (ee.ImageCollection('COPERNICUS/S2_SR')\n",
        "      .filterBounds(point)\n",
        "      .sort('CLOUDY_PIXEL_PERCENTAGE')\n",
        "      .first()\n",
        "      .maskClouds()\n",
        "      .scaleAndOffset()\n",
        "      .spectralIndices('EVI')) # Let's compute the EVI using the index() method for comparison"
      ]
    },
    {
      "cell_type": "markdown",
      "metadata": {
        "id": "s346pqBcWLEl"
      },
      "source": [
        "Let's select the required bands for EVI:"
      ]
    },
    {
      "cell_type": "code",
      "execution_count": null,
      "metadata": {
        "id": "cdq0bEOmWLEm"
      },
      "outputs": [],
      "source": [
        "N = S2.select('B8')\n",
        "R = S2.select('B4')\n",
        "B = S2.select('B2')"
      ]
    },
    {
      "cell_type": "markdown",
      "metadata": {
        "id": "YWHSrrYJWLEm"
      },
      "source": [
        "## Overloaded Operators\n",
        "\n",
        "`eemont` has overloaded the binary operators, rich comparisons and unary operators in the following list for the `ee.Image` class:\n",
        "\n",
        "(+, -, \\*\\, /, //, %, \\**\\, <<, >>, &, |, <, <=, ==, !=, >, >=, -, ~)\n",
        "\n",
        "Therefore, you can now use them for image operations!"
      ]
    },
    {
      "cell_type": "code",
      "execution_count": null,
      "metadata": {
        "id": "MxeojRvJWLEm"
      },
      "outputs": [],
      "source": [
        "EVI = 2.5 * (N - R) / (N + 6.0 * R - 7.5 * B + 1.0)"
      ]
    },
    {
      "cell_type": "markdown",
      "metadata": {
        "id": "3Jsv2P5xWLEm"
      },
      "source": [
        "## Visualization"
      ]
    },
    {
      "cell_type": "markdown",
      "metadata": {
        "id": "psLgh0sqWLEm"
      },
      "source": [
        "Let's define the EVI visualization parameters:"
      ]
    },
    {
      "cell_type": "code",
      "execution_count": null,
      "metadata": {
        "id": "CcdEdVixWLEn"
      },
      "outputs": [],
      "source": [
        "visEVI = {\n",
        "    'min':0,\n",
        "    'max':1,\n",
        "    'palette':[\n",
        "        'FFFFFF', 'CE7E45', 'DF923D', 'F1B555', 'FCD163', '99B718', '74A901', '66A000',\n",
        "        '529400', '3E8601', '207401', '056201', '004C00', '023B01', '012E01', '011D01', '011301'\n",
        "    ]    \n",
        "}"
      ]
    },
    {
      "cell_type": "markdown",
      "metadata": {
        "id": "G7EuqzBdWLEn"
      },
      "source": [
        "And also the RGB visualization parameters:"
      ]
    },
    {
      "cell_type": "code",
      "execution_count": null,
      "metadata": {
        "id": "lBpHjDBpWLEn"
      },
      "outputs": [],
      "source": [
        "visRGB = {\n",
        "    'min':0,\n",
        "    'max':0.3,\n",
        "    'bands':['B4', 'B3', 'B2']\n",
        "}"
      ]
    },
    {
      "cell_type": "markdown",
      "metadata": {
        "id": "KZjJRDeSWLEn"
      },
      "source": [
        "Use `geemap` to display results:"
      ]
    },
    {
      "cell_type": "code",
      "execution_count": null,
      "metadata": {
        "id": "Bx1K3ywGWLEn",
        "outputId": "174814c6-e26f-4667-dcb0-a70109fab33a",
        "colab": {
          "referenced_widgets": [
            "0a22b32da4e44d1aad2ad5afc42ae76c"
          ]
        }
      },
      "outputs": [
        {
          "data": {
            "application/vnd.jupyter.widget-view+json": {
              "model_id": "0a22b32da4e44d1aad2ad5afc42ae76c",
              "version_major": 2,
              "version_minor": 0
            },
            "text/plain": [
              "Map(center=[2.92846, -76.0269], controls=(WidgetControl(options=['position', 'transparent_bg'], widget=HBox(ch…"
            ]
          },
          "metadata": {},
          "output_type": "display_data"
        }
      ],
      "source": [
        "Map.addLayer(S2,visRGB,'RGB')\n",
        "Map.addLayer(EVI,visEVI,'EVI With Overloaded Operators')\n",
        "Map.addLayer(S2.select('EVI'),visEVI,'EVI With index() Method')\n",
        "Map.add_colorbar(visEVI['palette'], caption = 'EVI')\n",
        "Map.centerObject(point,9)\n",
        "Map"
      ]
    }
  ],
  "metadata": {
    "kernelspec": {
      "display_name": "Python 3",
      "language": "python",
      "name": "python3"
    },
    "language_info": {
      "codemirror_mode": {
        "name": "ipython",
        "version": 3
      },
      "file_extension": ".py",
      "mimetype": "text/x-python",
      "name": "python",
      "nbconvert_exporter": "python",
      "pygments_lexer": "ipython3",
      "version": "3.9.4"
    },
    "colab": {
      "name": "005-EVI-with-Overloaded-Operators-Sentinel-2.ipynb",
      "provenance": []
    }
  },
  "nbformat": 4,
  "nbformat_minor": 0
}