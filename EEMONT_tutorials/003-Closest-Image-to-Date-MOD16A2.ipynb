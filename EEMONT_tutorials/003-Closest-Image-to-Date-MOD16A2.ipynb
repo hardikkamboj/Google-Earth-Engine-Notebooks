{
  "cells": [
    {
      "cell_type": "markdown",
      "metadata": {
        "id": "view-in-github",
        "colab_type": "text"
      },
      "source": [
        "<a href=\"https://colab.research.google.com/github/hardikkamboj/Google-Earth-Engine-Notebooks/blob/main/EEMONT_tutorials/003-Closest-Image-to-Date-MOD16A2.ipynb\" target=\"_parent\"><img src=\"https://colab.research.google.com/assets/colab-badge.svg\" alt=\"Open In Colab\"/></a>"
      ]
    },
    {
      "cell_type": "markdown",
      "metadata": {
        "id": "hfDURFJIE5GF"
      },
      "source": [
        "[![colab](https://colab.research.google.com/assets/colab-badge.svg)](https://colab.research.google.com/github/davemlz/eemont/blob/master/docs/tutorials/003-Closest-Image-to-Date-MOD16A2.ipynb)"
      ]
    },
    {
      "cell_type": "markdown",
      "metadata": {
        "id": "jZEthLln92Ep"
      },
      "source": [
        "# Getting the Closest Image to a Specific Date\n",
        "_Tutorial created by **David Montero Loaiza**_: [GitHub](https://github.com/davemlz) | [Twitter](https://twitter.com/dmlmont)\n",
        "\n",
        "- GitHub Repo: [https://github.com/davemlz/eemont](https://github.com/davemlz/eemont)\n",
        "- PyPI link: [https://pypi.org/project/eemont/](https://pypi.org/project/eemont/)\n",
        "- Conda-forge: [https://anaconda.org/conda-forge/eemont](https://anaconda.org/conda-forge/eemont)\n",
        "- Documentation: [https://eemont.readthedocs.io/](https://eemont.readthedocs.io/)\n",
        "- More tutorials: [https://github.com/davemlz/eemont/tree/master/docs/tutorials](https://github.com/davemlz/eemont/tree/master/docs/tutorials)"
      ]
    },
    {
      "cell_type": "markdown",
      "metadata": {
        "id": "CD7h0hbi92Er"
      },
      "source": [
        "## Let's start!"
      ]
    },
    {
      "cell_type": "markdown",
      "metadata": {
        "id": "E0rc6Cya92Es"
      },
      "source": [
        "If required, please uncomment:"
      ]
    },
    {
      "cell_type": "code",
      "execution_count": 1,
      "metadata": {
        "id": "NYzyvKtk92Es",
        "outputId": "c1761b76-43d5-4592-a32e-19f3c161bd83",
        "colab": {
          "base_uri": "https://localhost:8080/"
        }
      },
      "outputs": [
        {
          "output_type": "stream",
          "name": "stdout",
          "text": [
            "\u001b[K     |████████████████████████████████| 116 kB 9.3 MB/s \n",
            "\u001b[K     |████████████████████████████████| 165 kB 41.4 MB/s \n",
            "\u001b[?25h  Building wheel for eemont (setup.py) ... \u001b[?25l\u001b[?25hdone\n",
            "  Building wheel for ee-extra (setup.py) ... \u001b[?25l\u001b[?25hdone\n",
            "\u001b[K     |████████████████████████████████| 1.9 MB 9.7 MB/s \n",
            "\u001b[K     |████████████████████████████████| 1.7 MB 55.3 MB/s \n",
            "\u001b[K     |████████████████████████████████| 1.3 MB 36.6 MB/s \n",
            "\u001b[K     |████████████████████████████████| 93 kB 1.1 MB/s \n",
            "\u001b[K     |████████████████████████████████| 219 kB 53.0 MB/s \n",
            "\u001b[K     |████████████████████████████████| 1.2 MB 48.6 MB/s \n",
            "\u001b[K     |████████████████████████████████| 76 kB 4.8 MB/s \n",
            "\u001b[K     |████████████████████████████████| 95 kB 3.4 MB/s \n",
            "\u001b[K     |████████████████████████████████| 130 kB 57.2 MB/s \n",
            "\u001b[K     |████████████████████████████████| 8.6 MB 42.5 MB/s \n",
            "\u001b[K     |████████████████████████████████| 3.3 MB 52.2 MB/s \n",
            "\u001b[K     |████████████████████████████████| 216 kB 49.8 MB/s \n",
            "\u001b[K     |████████████████████████████████| 98 kB 6.0 MB/s \n",
            "\u001b[K     |████████████████████████████████| 97 kB 4.2 MB/s \n",
            "\u001b[K     |████████████████████████████████| 428 kB 36.9 MB/s \n",
            "\u001b[K     |████████████████████████████████| 61 kB 6.5 MB/s \n",
            "\u001b[K     |████████████████████████████████| 396 kB 28.4 MB/s \n",
            "\u001b[K     |████████████████████████████████| 53 kB 1.7 MB/s \n",
            "\u001b[K     |████████████████████████████████| 129 kB 72.0 MB/s \n",
            "\u001b[K     |████████████████████████████████| 78 kB 6.1 MB/s \n",
            "\u001b[K     |████████████████████████████████| 71 kB 163 kB/s \n",
            "\u001b[K     |████████████████████████████████| 70 kB 5.2 MB/s \n",
            "\u001b[K     |████████████████████████████████| 6.3 MB 21.1 MB/s \n",
            "\u001b[K     |████████████████████████████████| 26.5 MB 1.6 MB/s \n",
            "\u001b[K     |████████████████████████████████| 111 kB 49.1 MB/s \n",
            "\u001b[K     |████████████████████████████████| 556 kB 43.4 MB/s \n",
            "\u001b[?25h  Building wheel for pyshp (setup.py) ... \u001b[?25l\u001b[?25hdone\n",
            "  Building wheel for ipynb-py-convert (setup.py) ... \u001b[?25l\u001b[?25hdone\n",
            "  Building wheel for pycrs (setup.py) ... \u001b[?25l\u001b[?25hdone\n",
            "  Building wheel for sankee (setup.py) ... \u001b[?25l\u001b[?25hdone\n",
            "\u001b[31mERROR: pip's dependency resolver does not currently take into account all the packages that are installed. This behaviour is the source of the following dependency conflicts.\n",
            "google-colab 1.0.0 requires tornado~=5.1.0; python_version >= \"3.0\", but you have tornado 6.1 which is incompatible.\n",
            "datascience 0.10.6 requires folium==0.2.1, but you have folium 0.12.1.post1 which is incompatible.\u001b[0m\n"
          ]
        }
      ],
      "source": [
        "!pip install -q eemont\n",
        "!pip install -q geemap"
      ]
    },
    {
      "cell_type": "markdown",
      "metadata": {
        "id": "x3Rm3qt_92Et"
      },
      "source": [
        "Import the required packges."
      ]
    },
    {
      "cell_type": "code",
      "execution_count": null,
      "metadata": {
        "id": "H0C9S_Hh92Et"
      },
      "outputs": [],
      "source": [
        "import ee, eemont, datetime, geemap"
      ]
    },
    {
      "cell_type": "markdown",
      "metadata": {
        "id": "k1sdX2p592Eu"
      },
      "source": [
        "Authenticate and Initialize Earth Engine and geemap."
      ]
    },
    {
      "cell_type": "code",
      "execution_count": null,
      "metadata": {
        "id": "7QDXqVwy8Oef"
      },
      "outputs": [],
      "source": [
        "Map = geemap.Map()"
      ]
    },
    {
      "cell_type": "markdown",
      "metadata": {
        "id": "FYguKZh892Ey"
      },
      "source": [
        "Get and filter the image collection."
      ]
    },
    {
      "cell_type": "code",
      "execution_count": null,
      "metadata": {
        "id": "sBmM9kZn92Ez"
      },
      "outputs": [],
      "source": [
        "MOD16A2 = ee.ImageCollection('MODIS/006/MOD16A2').select('ET')"
      ]
    },
    {
      "cell_type": "markdown",
      "metadata": {
        "id": "5-bnLjO2E5GL"
      },
      "source": [
        "## Closest Image\n",
        "\n",
        "In order to get the closest image to a specific date, you just have to use the `closest()` method."
      ]
    },
    {
      "cell_type": "code",
      "execution_count": null,
      "metadata": {
        "id": "U68c7hyHE5GL"
      },
      "outputs": [],
      "source": [
        "MOD16A2 = MOD16A2.closest('2020-10-16')"
      ]
    },
    {
      "cell_type": "markdown",
      "metadata": {
        "id": "Zys-S1e6E5GL"
      },
      "source": [
        "This method will return an ee.ImageCollection with all the closest images to that specific date. In this case, one image is retrieved."
      ]
    },
    {
      "cell_type": "code",
      "execution_count": null,
      "metadata": {
        "id": "2OMpPapqE5GL"
      },
      "outputs": [],
      "source": [
        "MOD16A2_date = MOD16A2.first().get('system:time_start').getInfo()"
      ]
    },
    {
      "cell_type": "markdown",
      "metadata": {
        "id": "ubDyZBZYE5GM"
      },
      "source": [
        "The date is retrieved as milliseconds, therefore, we have to convert it to a date object. We'll use `datetime` here:"
      ]
    },
    {
      "cell_type": "code",
      "execution_count": null,
      "metadata": {
        "id": "L0s01ayNE5GM",
        "outputId": "752d2a93-2a00-4ac2-face-c1e99115de46"
      },
      "outputs": [
        {
          "data": {
            "text/plain": [
              "datetime.datetime(2020, 10, 15, 2, 0)"
            ]
          },
          "execution_count": 7,
          "metadata": {},
          "output_type": "execute_result"
        }
      ],
      "source": [
        "datetime.datetime.fromtimestamp(MOD16A2_date/1000)"
      ]
    },
    {
      "cell_type": "markdown",
      "metadata": {
        "id": "BL04QEwIE5GM"
      },
      "source": [
        "## Visualization"
      ]
    },
    {
      "cell_type": "markdown",
      "metadata": {
        "id": "loC_mYeFE5GM"
      },
      "source": [
        "Let's define the visualization parameters:"
      ]
    },
    {
      "cell_type": "code",
      "execution_count": null,
      "metadata": {
        "id": "tCKUsssVE5GM"
      },
      "outputs": [],
      "source": [
        "visParams = {\n",
        "  'min': 0.0,\n",
        "  'max': 300.0,\n",
        "  'palette': [\n",
        "    'ffffff', 'fcd163', '99b718', '66a000', '3e8601', '207401', '056201',\n",
        "    '004c00', '011301'\n",
        "  ],\n",
        "}"
      ]
    },
    {
      "cell_type": "markdown",
      "metadata": {
        "id": "nSXCgmJOE5GN"
      },
      "source": [
        "Use `geemap` to display results:"
      ]
    },
    {
      "cell_type": "code",
      "execution_count": null,
      "metadata": {
        "id": "rBFwEopjE5GN",
        "outputId": "6b5a2d77-901a-4280-81ac-1f99df1139bf",
        "colab": {
          "referenced_widgets": [
            "d002979ae39c4d5c8dcfd82321b6e035"
          ]
        }
      },
      "outputs": [
        {
          "data": {
            "application/vnd.jupyter.widget-view+json": {
              "model_id": "d002979ae39c4d5c8dcfd82321b6e035",
              "version_major": 2,
              "version_minor": 0
            },
            "text/plain": [
              "Map(center=[40, -100], controls=(WidgetControl(options=['position', 'transparent_bg'], widget=HBox(children=(T…"
            ]
          },
          "metadata": {},
          "output_type": "display_data"
        }
      ],
      "source": [
        "Map.addLayer(MOD16A2,visParams,'ET')\n",
        "Map.add_colorbar(visParams['palette'], vmax = 300.0, caption='ET') \n",
        "Map"
      ]
    }
  ],
  "metadata": {
    "kernelspec": {
      "display_name": "Python 3",
      "language": "python",
      "name": "python3"
    },
    "language_info": {
      "codemirror_mode": {
        "name": "ipython",
        "version": 3
      },
      "file_extension": ".py",
      "mimetype": "text/x-python",
      "name": "python",
      "nbconvert_exporter": "python",
      "pygments_lexer": "ipython3",
      "version": "3.9.4"
    },
    "colab": {
      "name": "003-Closest-Image-to-Date-MOD16A2.ipynb",
      "provenance": [],
      "include_colab_link": true
    }
  },
  "nbformat": 4,
  "nbformat_minor": 0
}