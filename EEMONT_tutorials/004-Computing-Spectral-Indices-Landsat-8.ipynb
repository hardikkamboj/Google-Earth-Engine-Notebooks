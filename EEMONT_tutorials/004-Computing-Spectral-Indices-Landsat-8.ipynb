{
  "cells": [
    {
      "cell_type": "markdown",
      "metadata": {
        "id": "view-in-github",
        "colab_type": "text"
      },
      "source": [
        "<a href=\"https://colab.research.google.com/github/hardikkamboj/Google-Earth-Engine-Notebooks/blob/main/EEMONT_tutorials/004-Computing-Spectral-Indices-Landsat-8.ipynb\" target=\"_parent\"><img src=\"https://colab.research.google.com/assets/colab-badge.svg\" alt=\"Open In Colab\"/></a>"
      ]
    },
    {
      "cell_type": "markdown",
      "metadata": {
        "id": "_kEhsakh8OeU"
      },
      "source": [
        "[![colab](https://colab.research.google.com/assets/colab-badge.svg)](https://colab.research.google.com/github/davemlz/eemont/blob/master/docs/tutorials/004-Computing-Spectral-Indices-Landsat-8.ipynb)"
      ]
    },
    {
      "cell_type": "markdown",
      "metadata": {
        "id": "jZEthLln92Ep"
      },
      "source": [
        "# Computing Spectral Indices in Landsat 8\n",
        "_Tutorial created by **David Montero Loaiza**_: [GitHub](https://github.com/davemlz) | [Twitter](https://twitter.com/dmlmont)\n",
        "\n",
        "- GitHub Repo: [https://github.com/davemlz/eemont](https://github.com/davemlz/eemont)\n",
        "- PyPI link: [https://pypi.org/project/eemont/](https://pypi.org/project/eemont/)\n",
        "- Conda-forge: [https://anaconda.org/conda-forge/eemont](https://anaconda.org/conda-forge/eemont)\n",
        "- Documentation: [https://eemont.readthedocs.io/](https://eemont.readthedocs.io/)\n",
        "- More tutorials: [https://github.com/davemlz/eemont/tree/master/docs/tutorials](https://github.com/davemlz/eemont/tree/master/docs/tutorials)"
      ]
    },
    {
      "cell_type": "markdown",
      "metadata": {
        "id": "CD7h0hbi92Er"
      },
      "source": [
        "## Let's start!"
      ]
    },
    {
      "cell_type": "markdown",
      "metadata": {
        "id": "E0rc6Cya92Es"
      },
      "source": [
        "If required, please uncomment:"
      ]
    },
    {
      "cell_type": "code",
      "execution_count": 1,
      "metadata": {
        "id": "NYzyvKtk92Es",
        "outputId": "f7679fc4-23d7-4e6f-f93d-9b923c16c33c",
        "colab": {
          "base_uri": "https://localhost:8080/"
        }
      },
      "outputs": [
        {
          "output_type": "stream",
          "name": "stdout",
          "text": [
            "\u001b[K     |████████████████████████████████| 116 kB 9.0 MB/s \n",
            "\u001b[K     |████████████████████████████████| 165 kB 55.9 MB/s \n",
            "\u001b[?25h  Building wheel for eemont (setup.py) ... \u001b[?25l\u001b[?25hdone\n",
            "  Building wheel for ee-extra (setup.py) ... \u001b[?25l\u001b[?25hdone\n",
            "\u001b[K     |████████████████████████████████| 1.9 MB 7.9 MB/s \n",
            "\u001b[K     |████████████████████████████████| 1.2 MB 35.1 MB/s \n",
            "\u001b[K     |████████████████████████████████| 3.3 MB 55.0 MB/s \n",
            "\u001b[K     |████████████████████████████████| 219 kB 63.6 MB/s \n",
            "\u001b[K     |████████████████████████████████| 95 kB 4.0 MB/s \n",
            "\u001b[K     |████████████████████████████████| 216 kB 46.9 MB/s \n",
            "\u001b[K     |████████████████████████████████| 130 kB 69.2 MB/s \n",
            "\u001b[K     |████████████████████████████████| 8.6 MB 40.2 MB/s \n",
            "\u001b[K     |████████████████████████████████| 1.3 MB 74.4 MB/s \n",
            "\u001b[K     |████████████████████████████████| 1.7 MB 63.0 MB/s \n",
            "\u001b[K     |████████████████████████████████| 98 kB 8.9 MB/s \n",
            "\u001b[K     |████████████████████████████████| 93 kB 1.5 MB/s \n",
            "\u001b[K     |████████████████████████████████| 76 kB 6.2 MB/s \n",
            "\u001b[K     |████████████████████████████████| 97 kB 7.4 MB/s \n",
            "\u001b[K     |████████████████████████████████| 61 kB 8.9 MB/s \n",
            "\u001b[K     |████████████████████████████████| 396 kB 59.7 MB/s \n",
            "\u001b[K     |████████████████████████████████| 428 kB 61.3 MB/s \n",
            "\u001b[K     |████████████████████████████████| 129 kB 63.0 MB/s \n",
            "\u001b[K     |████████████████████████████████| 78 kB 8.5 MB/s \n",
            "\u001b[K     |████████████████████████████████| 53 kB 2.2 MB/s \n",
            "\u001b[K     |████████████████████████████████| 71 kB 222 kB/s \n",
            "\u001b[K     |████████████████████████████████| 70 kB 10.6 MB/s \n",
            "\u001b[K     |████████████████████████████████| 6.3 MB 32.7 MB/s \n",
            "\u001b[K     |████████████████████████████████| 26.5 MB 1.3 MB/s \n",
            "\u001b[K     |████████████████████████████████| 111 kB 55.2 MB/s \n",
            "\u001b[K     |████████████████████████████████| 556 kB 53.0 MB/s \n",
            "\u001b[?25h  Building wheel for pyshp (setup.py) ... \u001b[?25l\u001b[?25hdone\n",
            "  Building wheel for ipynb-py-convert (setup.py) ... \u001b[?25l\u001b[?25hdone\n",
            "  Building wheel for pycrs (setup.py) ... \u001b[?25l\u001b[?25hdone\n",
            "  Building wheel for sankee (setup.py) ... \u001b[?25l\u001b[?25hdone\n",
            "\u001b[31mERROR: pip's dependency resolver does not currently take into account all the packages that are installed. This behaviour is the source of the following dependency conflicts.\n",
            "google-colab 1.0.0 requires tornado~=5.1.0; python_version >= \"3.0\", but you have tornado 6.1 which is incompatible.\n",
            "datascience 0.10.6 requires folium==0.2.1, but you have folium 0.12.1.post1 which is incompatible.\u001b[0m\n"
          ]
        }
      ],
      "source": [
        "!pip install -q eemont\n",
        "!pip install -q geemap"
      ]
    },
    {
      "cell_type": "markdown",
      "metadata": {
        "id": "x3Rm3qt_92Et"
      },
      "source": [
        "Import the required packges."
      ]
    },
    {
      "cell_type": "code",
      "execution_count": null,
      "metadata": {
        "id": "H0C9S_Hh92Et"
      },
      "outputs": [],
      "source": [
        "import ee, eemont, datetime, geemap"
      ]
    },
    {
      "cell_type": "markdown",
      "metadata": {
        "id": "k1sdX2p592Eu"
      },
      "source": [
        "Authenticate and Initialize Earth Engine and geemap."
      ]
    },
    {
      "cell_type": "code",
      "execution_count": null,
      "metadata": {
        "id": "7QDXqVwy8Oef"
      },
      "outputs": [],
      "source": [
        "Map = geemap.Map()"
      ]
    },
    {
      "cell_type": "markdown",
      "metadata": {
        "id": "FYguKZh892Ey"
      },
      "source": [
        "Point of interest."
      ]
    },
    {
      "cell_type": "code",
      "execution_count": null,
      "metadata": {
        "id": "R57SR6Xl8Oeg"
      },
      "outputs": [],
      "source": [
        "point = ee.Geometry.Point([-74.0592,11.3172])"
      ]
    },
    {
      "cell_type": "markdown",
      "metadata": {
        "id": "qwevPFML8Oeg"
      },
      "source": [
        "Get, filter, mask clouds and scale the image collection."
      ]
    },
    {
      "cell_type": "code",
      "execution_count": null,
      "metadata": {
        "id": "sBmM9kZn92Ez"
      },
      "outputs": [],
      "source": [
        "L8 = (ee.ImageCollection('LANDSAT/LC08/C01/T1_SR')\n",
        "      .filterBounds(point)\n",
        "      .sort('CLOUD_COVER')\n",
        "      .first()\n",
        "      .maskClouds()\n",
        "      .scaleAndOffset())"
      ]
    },
    {
      "cell_type": "markdown",
      "metadata": {
        "id": "RyTMix-B8Oeh"
      },
      "source": [
        "## Spectral Indices\n",
        "\n",
        "Spectral indices can be computed for Sentinel-2 and Landsat Products using the `spectralIndices()` method."
      ]
    },
    {
      "cell_type": "code",
      "execution_count": null,
      "metadata": {
        "id": "EYpINsAq8Oeh"
      },
      "outputs": [],
      "source": [
        "L8 = L8.spectralIndices()"
      ]
    },
    {
      "cell_type": "markdown",
      "metadata": {
        "id": "xcfhDCrs8Oei"
      },
      "source": [
        "By default, the NDVI is computed and added as a new band."
      ]
    },
    {
      "cell_type": "code",
      "execution_count": null,
      "metadata": {
        "colab": {
          "base_uri": "https://localhost:8080/"
        },
        "id": "XFn1GOPf8Oei",
        "outputId": "bebc3aa7-c04a-4b11-d2c7-1c8b1b66aee5"
      },
      "outputs": [
        {
          "data": {
            "text/plain": [
              "['B1',\n",
              " 'B2',\n",
              " 'B3',\n",
              " 'B4',\n",
              " 'B5',\n",
              " 'B6',\n",
              " 'B7',\n",
              " 'B10',\n",
              " 'B11',\n",
              " 'sr_aerosol',\n",
              " 'pixel_qa',\n",
              " 'radsat_qa',\n",
              " 'NDVI']"
            ]
          },
          "execution_count": 7,
          "metadata": {},
          "output_type": "execute_result"
        }
      ],
      "source": [
        "L8.bandNames().getInfo()"
      ]
    },
    {
      "cell_type": "markdown",
      "metadata": {
        "id": "-V-83HGx8Oej"
      },
      "source": [
        "If required, another index can be computed:"
      ]
    },
    {
      "cell_type": "code",
      "execution_count": null,
      "metadata": {
        "id": "7qGKatbu8Oek"
      },
      "outputs": [],
      "source": [
        "L8 = L8.spectralIndices('BAI')"
      ]
    },
    {
      "cell_type": "markdown",
      "metadata": {
        "id": "_Wgph3Rg8Oek"
      },
      "source": [
        "This new index is now added as another new band."
      ]
    },
    {
      "cell_type": "code",
      "execution_count": null,
      "metadata": {
        "colab": {
          "base_uri": "https://localhost:8080/"
        },
        "id": "uRwIgdhh8Oek",
        "outputId": "4c7c5281-12e2-4058-a2a7-12af978b09ce"
      },
      "outputs": [
        {
          "data": {
            "text/plain": [
              "['B1',\n",
              " 'B2',\n",
              " 'B3',\n",
              " 'B4',\n",
              " 'B5',\n",
              " 'B6',\n",
              " 'B7',\n",
              " 'B10',\n",
              " 'B11',\n",
              " 'sr_aerosol',\n",
              " 'pixel_qa',\n",
              " 'radsat_qa',\n",
              " 'NDVI',\n",
              " 'BAI']"
            ]
          },
          "execution_count": 9,
          "metadata": {},
          "output_type": "execute_result"
        }
      ],
      "source": [
        "L8.bandNames().getInfo()"
      ]
    },
    {
      "cell_type": "markdown",
      "metadata": {
        "id": "vb7wYuec8Oel"
      },
      "source": [
        "Multiple indices can also be computed."
      ]
    },
    {
      "cell_type": "code",
      "execution_count": null,
      "metadata": {
        "id": "CLZNOi7x8Oel"
      },
      "outputs": [],
      "source": [
        "L8 = L8.spectralIndices(['EVI','GNDVI','RVI'])"
      ]
    },
    {
      "cell_type": "markdown",
      "metadata": {
        "id": "nL2GQofP8Oel"
      },
      "source": [
        "These indices are now added as new bands:"
      ]
    },
    {
      "cell_type": "code",
      "execution_count": null,
      "metadata": {
        "colab": {
          "base_uri": "https://localhost:8080/"
        },
        "id": "UfNL9i788Oel",
        "outputId": "afc273ef-2a03-4c7f-a180-14ba79ef93e7"
      },
      "outputs": [
        {
          "data": {
            "text/plain": [
              "['B1',\n",
              " 'B2',\n",
              " 'B3',\n",
              " 'B4',\n",
              " 'B5',\n",
              " 'B6',\n",
              " 'B7',\n",
              " 'B10',\n",
              " 'B11',\n",
              " 'sr_aerosol',\n",
              " 'pixel_qa',\n",
              " 'radsat_qa',\n",
              " 'NDVI',\n",
              " 'BAI',\n",
              " 'EVI',\n",
              " 'GNDVI',\n",
              " 'RVI']"
            ]
          },
          "execution_count": 11,
          "metadata": {},
          "output_type": "execute_result"
        }
      ],
      "source": [
        "L8.bandNames().getInfo()"
      ]
    },
    {
      "cell_type": "markdown",
      "metadata": {
        "id": "rUTk7FTf8Oeq"
      },
      "source": [
        "Group of indices can also be added by the group name. The available options are: vegetation, water, burn, snow or all (compute all spectral indices):"
      ]
    },
    {
      "cell_type": "code",
      "execution_count": null,
      "metadata": {
        "id": "imXL5B9x8Oeq"
      },
      "outputs": [],
      "source": [
        "L8 = L8.spectralIndices('water') # Computes NDWI and MNDWI"
      ]
    },
    {
      "cell_type": "markdown",
      "metadata": {
        "id": "ovRsdFUL8Oeq"
      },
      "source": [
        "The computed indices are now added as new bands:"
      ]
    },
    {
      "cell_type": "code",
      "execution_count": null,
      "metadata": {
        "colab": {
          "base_uri": "https://localhost:8080/"
        },
        "id": "9tu_egEX8Oer",
        "outputId": "de6d662b-c418-4c12-ec85-1ec8da0bb137"
      },
      "outputs": [
        {
          "data": {
            "text/plain": [
              "['B1',\n",
              " 'B2',\n",
              " 'B3',\n",
              " 'B4',\n",
              " 'B5',\n",
              " 'B6',\n",
              " 'B7',\n",
              " 'B10',\n",
              " 'B11',\n",
              " 'sr_aerosol',\n",
              " 'pixel_qa',\n",
              " 'radsat_qa',\n",
              " 'NDVI',\n",
              " 'BAI',\n",
              " 'EVI',\n",
              " 'GNDVI',\n",
              " 'RVI',\n",
              " 'AWEInsh',\n",
              " 'AWEIsh',\n",
              " 'MNDWI',\n",
              " 'NDWI',\n",
              " 'WI1',\n",
              " 'WI2']"
            ]
          },
          "execution_count": 13,
          "metadata": {},
          "output_type": "execute_result"
        }
      ],
      "source": [
        "L8.bandNames().getInfo()"
      ]
    },
    {
      "cell_type": "markdown",
      "metadata": {
        "id": "JZ-8JCCl8Oer"
      },
      "source": [
        "## Visualization"
      ]
    },
    {
      "cell_type": "markdown",
      "metadata": {
        "id": "82LrL24j8Oer"
      },
      "source": [
        "Now, let's plot two of the computed indices: GNDVI and NDWI."
      ]
    },
    {
      "cell_type": "markdown",
      "metadata": {
        "id": "h3OCUhiZ8Oes"
      },
      "source": [
        "Let's define the visualization parameters for the GNDVI:"
      ]
    },
    {
      "cell_type": "code",
      "execution_count": null,
      "metadata": {
        "id": "IMRwDLXS8Oes"
      },
      "outputs": [],
      "source": [
        "visParamsGNDVI = {\n",
        "  'min': 0.0,\n",
        "  'max': 1.0,\n",
        "  'palette': [\n",
        "    'FFFFFF', 'CE7E45', 'DF923D', 'F1B555', 'FCD163', '99B718', '74A901',\n",
        "    '66A000', '529400', '3E8601', '207401', '056201', '004C00', '023B01',\n",
        "    '012E01', '011D01', '011301'\n",
        "  ],\n",
        "}"
      ]
    },
    {
      "cell_type": "markdown",
      "metadata": {
        "id": "jf2Hmx_j8Oes"
      },
      "source": [
        "Let's define the visualization parameters for the NDWI:"
      ]
    },
    {
      "cell_type": "code",
      "execution_count": null,
      "metadata": {
        "id": "leMK1WUh8Oes"
      },
      "outputs": [],
      "source": [
        "visParamsNDWI = {\n",
        "  'min': 0.0,\n",
        "  'max': 1.0,\n",
        "  'palette': ['0000ff', '00ffff', 'ffff00', 'ff0000', 'ffffff'],\n",
        "}"
      ]
    },
    {
      "cell_type": "markdown",
      "metadata": {
        "id": "QN_NYqWo8Oet"
      },
      "source": [
        "Use `geemap` to display results:"
      ]
    },
    {
      "cell_type": "code",
      "execution_count": null,
      "metadata": {
        "colab": {
          "base_uri": "https://localhost:8080/",
          "height": 1000,
          "referenced_widgets": [
            "4a9e20a89abb489cbebae864d3787706"
          ]
        },
        "id": "_-zl_7I78Oet",
        "outputId": "95ce28cf-6cd1-4ad1-fc2d-ea95282e303c"
      },
      "outputs": [
        {
          "data": {
            "application/vnd.jupyter.widget-view+json": {
              "model_id": "4a9e20a89abb489cbebae864d3787706",
              "version_major": 2,
              "version_minor": 0
            },
            "text/plain": [
              "Map(center=[11.317200000000001, -74.0592], controls=(WidgetControl(options=['position', 'transparent_bg'], wid…"
            ]
          },
          "metadata": {},
          "output_type": "display_data"
        }
      ],
      "source": [
        "Map.centerObject(point,9)\n",
        "Map.addLayer(L8.select('GNDVI'),visParamsGNDVI,'GNDVI')\n",
        "Map.addLayer(L8.select('NDWI'),visParamsNDWI,'NDWI')\n",
        "Map.add_colorbar(visParamsGNDVI['palette'], caption = 'GNDVI') \n",
        "Map.add_colorbar(visParamsNDWI['palette'], caption = 'NDWI') \n",
        "Map"
      ]
    }
  ],
  "metadata": {
    "colab": {
      "name": "004-Computing-Spectral-Indices-Landsat-8.ipynb",
      "provenance": [],
      "include_colab_link": true
    },
    "kernelspec": {
      "display_name": "Python 3",
      "language": "python",
      "name": "python3"
    },
    "language_info": {
      "codemirror_mode": {
        "name": "ipython",
        "version": 3
      },
      "file_extension": ".py",
      "mimetype": "text/x-python",
      "name": "python",
      "nbconvert_exporter": "python",
      "pygments_lexer": "ipython3",
      "version": "3.9.4"
    }
  },
  "nbformat": 4,
  "nbformat_minor": 0
}